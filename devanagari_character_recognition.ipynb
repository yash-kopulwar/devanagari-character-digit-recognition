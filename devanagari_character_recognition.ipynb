{
 "cells": [
  {
   "cell_type": "code",
   "execution_count": null,
   "id": "f_upx4ngORr-",
   "metadata": {
    "id": "f_upx4ngORr-"
   },
   "outputs": [],
   "source": []
  },
  {
   "cell_type": "code",
   "execution_count": 1,
   "id": "b8d8fe80",
   "metadata": {
    "id": "b8d8fe80"
   },
   "outputs": [],
   "source": [
    "import numpy as np\n",
    "import pandas as pd\n",
    "import matplotlib.pyplot as plt\n",
    "from sklearn.model_selection import train_test_split\n",
    "\n",
    "import tensorflow as tf\n",
    "\n",
    "from tqdm import tqdm"
   ]
  },
  {
   "cell_type": "code",
   "execution_count": 2,
   "id": "c146e68e",
   "metadata": {
    "id": "c146e68e"
   },
   "outputs": [],
   "source": [
    "from tensorflow.keras.models import Sequential\n",
    "from tensorflow.keras.layers import Input, Dense, Dropout, Flatten\n",
    "from tensorflow.keras.layers import Conv2D, MaxPooling2D"
   ]
  },
  {
   "cell_type": "markdown",
   "id": "55602864",
   "metadata": {
    "id": "55602864"
   },
   "source": [
    "# Data"
   ]
  },
  {
   "cell_type": "code",
   "execution_count": 3,
   "id": "c63542e2",
   "metadata": {
    "id": "c63542e2"
   },
   "outputs": [],
   "source": [
    "# readinging data\n",
    "\n",
    "data = pd.read_csv('data.csv')"
   ]
  },
  {
   "cell_type": "code",
   "execution_count": 4,
   "id": "6d919fd7",
   "metadata": {
    "colab": {
     "base_uri": "https://localhost:8080/",
     "height": 244
    },
    "id": "6d919fd7",
    "outputId": "6d7d98ac-402a-4fa7-c17f-13c81cff5032",
    "scrolled": true
   },
   "outputs": [
    {
     "data": {
      "text/html": [
       "<div>\n",
       "<style scoped>\n",
       "    .dataframe tbody tr th:only-of-type {\n",
       "        vertical-align: middle;\n",
       "    }\n",
       "\n",
       "    .dataframe tbody tr th {\n",
       "        vertical-align: top;\n",
       "    }\n",
       "\n",
       "    .dataframe thead th {\n",
       "        text-align: right;\n",
       "    }\n",
       "</style>\n",
       "<table border=\"1\" class=\"dataframe\">\n",
       "  <thead>\n",
       "    <tr style=\"text-align: right;\">\n",
       "      <th></th>\n",
       "      <th>pixel_0000</th>\n",
       "      <th>pixel_0001</th>\n",
       "      <th>pixel_0002</th>\n",
       "      <th>pixel_0003</th>\n",
       "      <th>pixel_0004</th>\n",
       "      <th>pixel_0005</th>\n",
       "      <th>pixel_0006</th>\n",
       "      <th>pixel_0007</th>\n",
       "      <th>pixel_0008</th>\n",
       "      <th>pixel_0009</th>\n",
       "      <th>...</th>\n",
       "      <th>pixel_1015</th>\n",
       "      <th>pixel_1016</th>\n",
       "      <th>pixel_1017</th>\n",
       "      <th>pixel_1018</th>\n",
       "      <th>pixel_1019</th>\n",
       "      <th>pixel_1020</th>\n",
       "      <th>pixel_1021</th>\n",
       "      <th>pixel_1022</th>\n",
       "      <th>pixel_1023</th>\n",
       "      <th>character</th>\n",
       "    </tr>\n",
       "  </thead>\n",
       "  <tbody>\n",
       "    <tr>\n",
       "      <th>91995</th>\n",
       "      <td>0</td>\n",
       "      <td>0</td>\n",
       "      <td>0</td>\n",
       "      <td>0</td>\n",
       "      <td>0</td>\n",
       "      <td>0</td>\n",
       "      <td>0</td>\n",
       "      <td>0</td>\n",
       "      <td>0</td>\n",
       "      <td>0</td>\n",
       "      <td>...</td>\n",
       "      <td>0</td>\n",
       "      <td>0</td>\n",
       "      <td>0</td>\n",
       "      <td>0</td>\n",
       "      <td>0</td>\n",
       "      <td>0</td>\n",
       "      <td>0</td>\n",
       "      <td>0</td>\n",
       "      <td>0</td>\n",
       "      <td>digit_9</td>\n",
       "    </tr>\n",
       "    <tr>\n",
       "      <th>91996</th>\n",
       "      <td>0</td>\n",
       "      <td>0</td>\n",
       "      <td>0</td>\n",
       "      <td>0</td>\n",
       "      <td>0</td>\n",
       "      <td>0</td>\n",
       "      <td>0</td>\n",
       "      <td>0</td>\n",
       "      <td>0</td>\n",
       "      <td>0</td>\n",
       "      <td>...</td>\n",
       "      <td>0</td>\n",
       "      <td>0</td>\n",
       "      <td>0</td>\n",
       "      <td>0</td>\n",
       "      <td>0</td>\n",
       "      <td>0</td>\n",
       "      <td>0</td>\n",
       "      <td>0</td>\n",
       "      <td>0</td>\n",
       "      <td>digit_9</td>\n",
       "    </tr>\n",
       "    <tr>\n",
       "      <th>91997</th>\n",
       "      <td>0</td>\n",
       "      <td>0</td>\n",
       "      <td>0</td>\n",
       "      <td>0</td>\n",
       "      <td>0</td>\n",
       "      <td>0</td>\n",
       "      <td>0</td>\n",
       "      <td>0</td>\n",
       "      <td>0</td>\n",
       "      <td>0</td>\n",
       "      <td>...</td>\n",
       "      <td>0</td>\n",
       "      <td>0</td>\n",
       "      <td>0</td>\n",
       "      <td>0</td>\n",
       "      <td>0</td>\n",
       "      <td>0</td>\n",
       "      <td>0</td>\n",
       "      <td>0</td>\n",
       "      <td>0</td>\n",
       "      <td>digit_9</td>\n",
       "    </tr>\n",
       "    <tr>\n",
       "      <th>91998</th>\n",
       "      <td>0</td>\n",
       "      <td>0</td>\n",
       "      <td>0</td>\n",
       "      <td>0</td>\n",
       "      <td>0</td>\n",
       "      <td>0</td>\n",
       "      <td>0</td>\n",
       "      <td>0</td>\n",
       "      <td>0</td>\n",
       "      <td>0</td>\n",
       "      <td>...</td>\n",
       "      <td>0</td>\n",
       "      <td>0</td>\n",
       "      <td>0</td>\n",
       "      <td>0</td>\n",
       "      <td>0</td>\n",
       "      <td>0</td>\n",
       "      <td>0</td>\n",
       "      <td>0</td>\n",
       "      <td>0</td>\n",
       "      <td>digit_9</td>\n",
       "    </tr>\n",
       "    <tr>\n",
       "      <th>91999</th>\n",
       "      <td>0</td>\n",
       "      <td>0</td>\n",
       "      <td>0</td>\n",
       "      <td>0</td>\n",
       "      <td>0</td>\n",
       "      <td>0</td>\n",
       "      <td>0</td>\n",
       "      <td>0</td>\n",
       "      <td>0</td>\n",
       "      <td>0</td>\n",
       "      <td>...</td>\n",
       "      <td>0</td>\n",
       "      <td>0</td>\n",
       "      <td>0</td>\n",
       "      <td>0</td>\n",
       "      <td>0</td>\n",
       "      <td>0</td>\n",
       "      <td>0</td>\n",
       "      <td>0</td>\n",
       "      <td>0</td>\n",
       "      <td>digit_9</td>\n",
       "    </tr>\n",
       "  </tbody>\n",
       "</table>\n",
       "<p>5 rows × 1025 columns</p>\n",
       "</div>"
      ],
      "text/plain": [
       "       pixel_0000  pixel_0001  pixel_0002  pixel_0003  pixel_0004  pixel_0005  \\\n",
       "91995           0           0           0           0           0           0   \n",
       "91996           0           0           0           0           0           0   \n",
       "91997           0           0           0           0           0           0   \n",
       "91998           0           0           0           0           0           0   \n",
       "91999           0           0           0           0           0           0   \n",
       "\n",
       "       pixel_0006  pixel_0007  pixel_0008  pixel_0009  ...  pixel_1015  \\\n",
       "91995           0           0           0           0  ...           0   \n",
       "91996           0           0           0           0  ...           0   \n",
       "91997           0           0           0           0  ...           0   \n",
       "91998           0           0           0           0  ...           0   \n",
       "91999           0           0           0           0  ...           0   \n",
       "\n",
       "       pixel_1016  pixel_1017  pixel_1018  pixel_1019  pixel_1020  pixel_1021  \\\n",
       "91995           0           0           0           0           0           0   \n",
       "91996           0           0           0           0           0           0   \n",
       "91997           0           0           0           0           0           0   \n",
       "91998           0           0           0           0           0           0   \n",
       "91999           0           0           0           0           0           0   \n",
       "\n",
       "       pixel_1022  pixel_1023  character  \n",
       "91995           0           0    digit_9  \n",
       "91996           0           0    digit_9  \n",
       "91997           0           0    digit_9  \n",
       "91998           0           0    digit_9  \n",
       "91999           0           0    digit_9  \n",
       "\n",
       "[5 rows x 1025 columns]"
      ]
     },
     "execution_count": 4,
     "metadata": {},
     "output_type": "execute_result"
    }
   ],
   "source": [
    "data.tail()"
   ]
  },
  {
   "cell_type": "code",
   "execution_count": 5,
   "id": "a28c0be7",
   "metadata": {
    "colab": {
     "base_uri": "https://localhost:8080/"
    },
    "id": "a28c0be7",
    "outputId": "0de36efe-24fa-4e69-ad87-9acb657d19f3"
   },
   "outputs": [
    {
     "data": {
      "text/plain": [
       "0"
      ]
     },
     "execution_count": 5,
     "metadata": {},
     "output_type": "execute_result"
    }
   ],
   "source": [
    "data.isna().sum().sum()"
   ]
  },
  {
   "cell_type": "code",
   "execution_count": 6,
   "id": "8e9e2a63",
   "metadata": {
    "colab": {
     "base_uri": "https://localhost:8080/"
    },
    "id": "8e9e2a63",
    "outputId": "5c0eee7a-9dda-4ddc-d930-dbe300c0cf21",
    "scrolled": true
   },
   "outputs": [
    {
     "data": {
      "text/plain": [
       "character_09_jha             2000\n",
       "digit_2                      2000\n",
       "character_19_dha             2000\n",
       "character_04_gha             2000\n",
       "character_01_ka              2000\n",
       "digit_6                      2000\n",
       "character_32_patalosaw       2000\n",
       "character_03_ga              2000\n",
       "character_31_petchiryakha    2000\n",
       "character_36_gya             2000\n",
       "character_34_chhya           2000\n",
       "character_22_pha             2000\n",
       "digit_4                      2000\n",
       "digit_9                      2000\n",
       "character_14_dhaa            2000\n",
       "character_10_yna             2000\n",
       "digit_8                      2000\n",
       "character_24_bha             2000\n",
       "character_12_thaa            2000\n",
       "character_17_tha             2000\n",
       "character_20_na              2000\n",
       "digit_1                      2000\n",
       "digit_7                      2000\n",
       "digit_5                      2000\n",
       "character_28_la              2000\n",
       "character_25_ma              2000\n",
       "character_16_tabala          2000\n",
       "character_08_ja              2000\n",
       "character_15_adna            2000\n",
       "character_33_ha              2000\n",
       "character_07_chha            2000\n",
       "character_18_da              2000\n",
       "character_13_daa             2000\n",
       "character_21_pa              2000\n",
       "character_26_yaw             2000\n",
       "character_23_ba              2000\n",
       "character_11_taamatar        2000\n",
       "digit_0                      2000\n",
       "character_30_motosaw         2000\n",
       "character_02_kha             2000\n",
       "character_35_tra             2000\n",
       "character_06_cha             2000\n",
       "digit_3                      2000\n",
       "character_27_ra              2000\n",
       "character_05_kna             2000\n",
       "character_29_waw             2000\n",
       "Name: character, dtype: int64"
      ]
     },
     "execution_count": 6,
     "metadata": {},
     "output_type": "execute_result"
    }
   ],
   "source": [
    "# number of images for each image\n",
    "data.character.value_counts()"
   ]
  },
  {
   "cell_type": "markdown",
   "id": "603037e1",
   "metadata": {
    "id": "603037e1"
   },
   "source": [
    "We can see that there are 2000 images for each character"
   ]
  },
  {
   "cell_type": "code",
   "execution_count": 7,
   "id": "33003cd0",
   "metadata": {
    "colab": {
     "base_uri": "https://localhost:8080/"
    },
    "id": "33003cd0",
    "outputId": "83d2d985-3207-48d2-e38c-a43c4d2b7800"
   },
   "outputs": [
    {
     "data": {
      "text/plain": [
       "((92000, 1024), (92000,))"
      ]
     },
     "execution_count": 7,
     "metadata": {},
     "output_type": "execute_result"
    }
   ],
   "source": [
    "# separating images and labels\n",
    "X_data = data.iloc[:, :-1]\n",
    "y_data = data.iloc[:, -1]\n",
    "\n",
    "X_data.shape, y_data.shape"
   ]
  },
  {
   "cell_type": "markdown",
   "id": "8887312d",
   "metadata": {
    "id": "8887312d"
   },
   "source": [
    "# The Images"
   ]
  },
  {
   "cell_type": "markdown",
   "id": "d7af924c",
   "metadata": {
    "id": "d7af924c"
   },
   "source": [
    "Each image in the dataset is given as a flattened vector. We want to use convolution layers in our model to preserve the spatial information. Therefore, we will convert the flattened vectors back to the 2-D vector of the image."
   ]
  },
  {
   "cell_type": "code",
   "execution_count": 8,
   "id": "860dd389",
   "metadata": {
    "id": "860dd389"
   },
   "outputs": [],
   "source": [
    "X = X_data.values.reshape(X_data.shape[0], 32, 32, 1)\n",
    "X = X/255      # data normalization"
   ]
  },
  {
   "cell_type": "code",
   "execution_count": 9,
   "id": "c0c3722a",
   "metadata": {
    "colab": {
     "base_uri": "https://localhost:8080/",
     "height": 222
    },
    "id": "c0c3722a",
    "outputId": "a7fcf50a-3218-4cce-9433-b11bc9c30e79"
   },
   "outputs": [
    {
     "data": {
      "image/png": "[encoded data removed]",
      "text/plain": [
       "<Figure size 432x288 with 8 Axes>"
      ]
     },
     "metadata": {
      "needs_background": "light"
     },
     "output_type": "display_data"
    }
   ],
   "source": [
    "for i in range(1, 9):    \n",
    "    plt.subplot(240+i)\n",
    "    plt.axis('off')\n",
    "    plt.imshow(X[i-1].reshape(32, 32), cmap='gray')\n",
    "plt.show()"
   ]
  },
  {
   "cell_type": "markdown",
   "id": "b014cf1e",
   "metadata": {
    "id": "b014cf1e"
   },
   "source": [
    "# The labels"
   ]
  },
  {
   "cell_type": "markdown",
   "id": "e712231a",
   "metadata": {
    "id": "e712231a"
   },
   "source": [
    "The labels are in text form which cannot be inputed in a neural network, we need to map them to integer values."
   ]
  },
  {
   "cell_type": "code",
   "execution_count": 10,
   "id": "8e3018d1",
   "metadata": {
    "colab": {
     "base_uri": "https://localhost:8080/"
    },
    "id": "8e3018d1",
    "outputId": "fb469fdd-aba4-48cc-ee3a-4d1ec5934f6f",
    "scrolled": true
   },
   "outputs": [
    {
     "data": {
      "text/plain": [
       "{'character_01_ka': '0',\n",
       " 'character_02_kha': '1',\n",
       " 'character_03_ga': '2',\n",
       " 'character_04_gha': '3',\n",
       " 'character_05_kna': '4',\n",
       " 'character_06_cha': '5',\n",
       " 'character_07_chha': '6',\n",
       " 'character_08_ja': '7',\n",
       " 'character_09_jha': '8',\n",
       " 'character_10_yna': '9',\n",
       " 'character_11_taamatar': '10',\n",
       " 'character_12_thaa': '11',\n",
       " 'character_13_daa': '12',\n",
       " 'character_14_dhaa': '13',\n",
       " 'character_15_adna': '14',\n",
       " 'character_16_tabala': '15',\n",
       " 'character_17_tha': '16',\n",
       " 'character_18_da': '17',\n",
       " 'character_19_dha': '18',\n",
       " 'character_20_na': '19',\n",
       " 'character_21_pa': '20',\n",
       " 'character_22_pha': '21',\n",
       " 'character_23_ba': '22',\n",
       " 'character_24_bha': '23',\n",
       " 'character_25_ma': '24',\n",
       " 'character_26_yaw': '25',\n",
       " 'character_27_ra': '26',\n",
       " 'character_28_la': '27',\n",
       " 'character_29_waw': '28',\n",
       " 'character_30_motosaw': '29',\n",
       " 'character_31_petchiryakha': '30',\n",
       " 'character_32_patalosaw': '31',\n",
       " 'character_33_ha': '32',\n",
       " 'character_34_chhya': '33',\n",
       " 'character_35_tra': '34',\n",
       " 'character_36_gya': '35',\n",
       " 'digit_0': '36',\n",
       " 'digit_1': '37',\n",
       " 'digit_2': '38',\n",
       " 'digit_3': '39',\n",
       " 'digit_4': '40',\n",
       " 'digit_5': '41',\n",
       " 'digit_6': '42',\n",
       " 'digit_7': '43',\n",
       " 'digit_8': '44',\n",
       " 'digit_9': '45'}"
      ]
     },
     "execution_count": 10,
     "metadata": {},
     "output_type": "execute_result"
    }
   ],
   "source": [
    "labels = np.array(list(enumerate(y_data.unique())))\n",
    "y_dict = dict(labels)\n",
    "y_dict_2 = {values:keys for keys, values in y_dict.items()}\n",
    "\n",
    "y = y_data.map(y_dict_2)\n",
    "\n",
    "\n",
    "y_dict_2"
   ]
  },
  {
   "cell_type": "code",
   "execution_count": 11,
   "id": "49bac95e",
   "metadata": {
    "colab": {
     "base_uri": "https://localhost:8080/"
    },
    "id": "49bac95e",
    "outputId": "aac115c6-122f-4506-f21d-b883a6c12644"
   },
   "outputs": [
    {
     "data": {
      "text/plain": [
       "0         0\n",
       "1         0\n",
       "2         0\n",
       "3         0\n",
       "4         0\n",
       "         ..\n",
       "91995    45\n",
       "91996    45\n",
       "91997    45\n",
       "91998    45\n",
       "91999    45\n",
       "Name: character, Length: 92000, dtype: object"
      ]
     },
     "execution_count": 11,
     "metadata": {},
     "output_type": "execute_result"
    }
   ],
   "source": [
    "y"
   ]
  },
  {
   "cell_type": "code",
   "execution_count": 12,
   "id": "DokSBmjPRsBC",
   "metadata": {
    "colab": {
     "base_uri": "https://localhost:8080/"
    },
    "id": "DokSBmjPRsBC",
    "outputId": "df52ccb9-e4ba-46c5-fca2-d41cca2881b6"
   },
   "outputs": [
    {
     "data": {
      "text/plain": [
       "(92000, 46)"
      ]
     },
     "execution_count": 12,
     "metadata": {},
     "output_type": "execute_result"
    }
   ],
   "source": [
    "# converting y into a one hot vector \n",
    "\n",
    "a = np.array(list(y), dtype=int)\n",
    "if np.max(a)==45:\n",
    "  y = np.eye(46)[a]  \n",
    "\n",
    "y.shape"
   ]
  },
  {
   "cell_type": "code",
   "execution_count": null,
   "id": "LJXdzmkNRrk2",
   "metadata": {
    "id": "LJXdzmkNRrk2"
   },
   "outputs": [],
   "source": []
  },
  {
   "cell_type": "markdown",
   "id": "2f948504",
   "metadata": {
    "id": "2f948504"
   },
   "source": [
    "# Train-Test split"
   ]
  },
  {
   "cell_type": "code",
   "execution_count": 13,
   "id": "1d615cf8",
   "metadata": {
    "colab": {
     "base_uri": "https://localhost:8080/"
    },
    "id": "1d615cf8",
    "outputId": "6136594c-062e-4e0e-a1c8-5119620e985f"
   },
   "outputs": [
    {
     "data": {
      "text/plain": [
       "((73600, 32, 32, 1), (18400, 32, 32, 1), (73600, 46), (18400, 46))"
      ]
     },
     "execution_count": 13,
     "metadata": {},
     "output_type": "execute_result"
    }
   ],
   "source": [
    "X_train, X_test, y_train, y_test = train_test_split(X, y, test_size=0.2, random_state=34562)\n",
    "X_train.shape, X_test.shape, y_train.shape, y_test.shape"
   ]
  },
  {
   "cell_type": "markdown",
   "id": "894d8b36",
   "metadata": {
    "id": "894d8b36"
   },
   "source": [
    "# Convolutional Model"
   ]
  },
  {
   "cell_type": "code",
   "execution_count": 65,
   "id": "335dd5ab",
   "metadata": {
    "id": "335dd5ab"
   },
   "outputs": [],
   "source": [
    "model = Sequential([\n",
    "    Input(shape=(32, 32, 1)),\n",
    "    Conv2D(30, (4, 4)),\n",
    "    MaxPooling2D(pool_size=(2, 2)),\n",
    "    Dropout(0.3),\n",
    "    Conv2D(50, (4, 4)),\n",
    "    MaxPooling2D(pool_size=(2, 2)),\n",
    "    Dropout(0.3),\n",
    "    Flatten(),\n",
    "    Dense(128, activation='relu'), \n",
    "    Dense(64, activation='relu'),\n",
    "    Dense(46, activation='softmax')\n",
    "    \n",
    "])"
   ]
  },
  {
   "cell_type": "code",
   "execution_count": 66,
   "id": "8424d9b4",
   "metadata": {
    "colab": {
     "base_uri": "https://localhost:8080/"
    },
    "id": "8424d9b4",
    "outputId": "e883eb8b-1531-4c19-c446-27b0c860ec22"
   },
   "outputs": [
    {
     "name": "stdout",
     "output_type": "stream",
     "text": [
      "Model: \"sequential_12\"\n",
      "_________________________________________________________________\n",
      "Layer (type)                 Output Shape              Param #   \n",
      "=================================================================\n",
      "conv2d_21 (Conv2D)           (None, 29, 29, 30)        510       \n",
      "_________________________________________________________________\n",
      "max_pooling2d_21 (MaxPooling (None, 14, 14, 30)        0         \n",
      "_________________________________________________________________\n",
      "dropout_21 (Dropout)         (None, 14, 14, 30)        0         \n",
      "_________________________________________________________________\n",
      "conv2d_22 (Conv2D)           (None, 11, 11, 50)        24050     \n",
      "_________________________________________________________________\n",
      "max_pooling2d_22 (MaxPooling (None, 5, 5, 50)          0         \n",
      "_________________________________________________________________\n",
      "dropout_22 (Dropout)         (None, 5, 5, 50)          0         \n",
      "_________________________________________________________________\n",
      "flatten_12 (Flatten)         (None, 1250)              0         \n",
      "_________________________________________________________________\n",
      "dense_36 (Dense)             (None, 128)               160128    \n",
      "_________________________________________________________________\n",
      "dense_37 (Dense)             (None, 64)                8256      \n",
      "_________________________________________________________________\n",
      "dense_38 (Dense)             (None, 46)                2990      \n",
      "=================================================================\n",
      "Total params: 195,934\n",
      "Trainable params: 195,934\n",
      "Non-trainable params: 0\n",
      "_________________________________________________________________\n"
     ]
    }
   ],
   "source": [
    "optimizer = tf.keras.optimizers.Adam(learning_rate=1e-10)\n",
    "\n",
    "model.compile(optimizer='adam', loss='categorical_crossentropy', metrics=['accuracy'])\n",
    "model.summary()"
   ]
  },
  {
   "cell_type": "code",
   "execution_count": 67,
   "id": "2196ee71",
   "metadata": {
    "colab": {
     "base_uri": "https://localhost:8080/"
    },
    "id": "2196ee71",
    "outputId": "97466e07-53c5-43a0-9297-7bc50291a93b"
   },
   "outputs": [
    {
     "name": "stdout",
     "output_type": "stream",
     "text": [
      "Train on 58880 samples, validate on 14720 samples\n",
      "Epoch 1/30\n",
      "58880/58880 [==============================] - 5s 88us/sample - loss: 1.3319 - accuracy: 0.6358 - val_loss: 0.4360 - val_accuracy: 0.8741\n",
      "Epoch 2/30\n",
      "58880/58880 [==============================] - 5s 78us/sample - loss: 0.4014 - accuracy: 0.8777 - val_loss: 0.2596 - val_accuracy: 0.9213\n",
      "Epoch 3/30\n",
      "58880/58880 [==============================] - 5s 80us/sample - loss: 0.2661 - accuracy: 0.9164 - val_loss: 0.2095 - val_accuracy: 0.9379\n",
      "Epoch 4/30\n",
      "58880/58880 [==============================] - 5s 79us/sample - loss: 0.2097 - accuracy: 0.9328 - val_loss: 0.1696 - val_accuracy: 0.9493\n",
      "Epoch 5/30\n",
      "58880/58880 [==============================] - 5s 79us/sample - loss: 0.1768 - accuracy: 0.9439 - val_loss: 0.1511 - val_accuracy: 0.9552\n",
      "Epoch 6/30\n",
      "58880/58880 [==============================] - 5s 80us/sample - loss: 0.1501 - accuracy: 0.9517 - val_loss: 0.1461 - val_accuracy: 0.9568\n",
      "Epoch 7/30\n",
      "58880/58880 [==============================] - 5s 80us/sample - loss: 0.1358 - accuracy: 0.9555 - val_loss: 0.1485 - val_accuracy: 0.9581\n",
      "Epoch 8/30\n",
      "58880/58880 [==============================] - 5s 80us/sample - loss: 0.1200 - accuracy: 0.9599 - val_loss: 0.1447 - val_accuracy: 0.9595\n",
      "Epoch 9/30\n",
      "58880/58880 [==============================] - 5s 80us/sample - loss: 0.1114 - accuracy: 0.9630 - val_loss: 0.1337 - val_accuracy: 0.9643\n",
      "Epoch 10/30\n",
      "58880/58880 [==============================] - 5s 81us/sample - loss: 0.1014 - accuracy: 0.9664 - val_loss: 0.1346 - val_accuracy: 0.9618\n",
      "Epoch 11/30\n",
      "58880/58880 [==============================] - 5s 83us/sample - loss: 0.0923 - accuracy: 0.9698 - val_loss: 0.1401 - val_accuracy: 0.9617\n",
      "Epoch 12/30\n",
      "58880/58880 [==============================] - 5s 82us/sample - loss: 0.0930 - accuracy: 0.9685 - val_loss: 0.1337 - val_accuracy: 0.9638\n",
      "Epoch 13/30\n",
      "58880/58880 [==============================] - 5s 82us/sample - loss: 0.0838 - accuracy: 0.9722 - val_loss: 0.1315 - val_accuracy: 0.9646\n",
      "Epoch 14/30\n",
      "58880/58880 [==============================] - 5s 83us/sample - loss: 0.0799 - accuracy: 0.9732 - val_loss: 0.1380 - val_accuracy: 0.9635\n",
      "Epoch 15/30\n",
      "58880/58880 [==============================] - 5s 86us/sample - loss: 0.0813 - accuracy: 0.9728 - val_loss: 0.1354 - val_accuracy: 0.9680\n",
      "Epoch 16/30\n",
      "58880/58880 [==============================] - 5s 84us/sample - loss: 0.0736 - accuracy: 0.9754 - val_loss: 0.1264 - val_accuracy: 0.9682\n",
      "Epoch 17/30\n",
      "58880/58880 [==============================] - 5s 83us/sample - loss: 0.0703 - accuracy: 0.9768 - val_loss: 0.1241 - val_accuracy: 0.9688\n",
      "Epoch 18/30\n",
      "58880/58880 [==============================] - 5s 84us/sample - loss: 0.0647 - accuracy: 0.9786 - val_loss: 0.1306 - val_accuracy: 0.9654\n",
      "Epoch 19/30\n",
      "58880/58880 [==============================] - 5s 83us/sample - loss: 0.0638 - accuracy: 0.9785 - val_loss: 0.1180 - val_accuracy: 0.9699\n",
      "Epoch 20/30\n",
      "58880/58880 [==============================] - 5s 84us/sample - loss: 0.0650 - accuracy: 0.9779 - val_loss: 0.1374 - val_accuracy: 0.9653\n",
      "Epoch 21/30\n",
      "58880/58880 [==============================] - 5s 87us/sample - loss: 0.0607 - accuracy: 0.9798 - val_loss: 0.1301 - val_accuracy: 0.9673\n",
      "Epoch 22/30\n",
      "58880/58880 [==============================] - 5s 84us/sample - loss: 0.0584 - accuracy: 0.9801 - val_loss: 0.1267 - val_accuracy: 0.9685\n",
      "Epoch 23/30\n",
      "58880/58880 [==============================] - 5s 85us/sample - loss: 0.0573 - accuracy: 0.9807 - val_loss: 0.1286 - val_accuracy: 0.9700\n",
      "Epoch 24/30\n",
      "58880/58880 [==============================] - 5s 86us/sample - loss: 0.0578 - accuracy: 0.9809 - val_loss: 0.1243 - val_accuracy: 0.9700\n",
      "Epoch 25/30\n",
      "58880/58880 [==============================] - 5s 88us/sample - loss: 0.0525 - accuracy: 0.9815 - val_loss: 0.1353 - val_accuracy: 0.9693\n",
      "Epoch 26/30\n",
      "58880/58880 [==============================] - 5s 85us/sample - loss: 0.0555 - accuracy: 0.9811 - val_loss: 0.1274 - val_accuracy: 0.9707\n",
      "Epoch 27/30\n",
      "58880/58880 [==============================] - 5s 86us/sample - loss: 0.0535 - accuracy: 0.9821 - val_loss: 0.1207 - val_accuracy: 0.9711\n",
      "Epoch 28/30\n",
      "58880/58880 [==============================] - 5s 85us/sample - loss: 0.0480 - accuracy: 0.9837 - val_loss: 0.1217 - val_accuracy: 0.9733\n",
      "Epoch 29/30\n",
      "58880/58880 [==============================] - 5s 86us/sample - loss: 0.0516 - accuracy: 0.9827 - val_loss: 0.1303 - val_accuracy: 0.9715\n",
      "Epoch 30/30\n",
      "58880/58880 [==============================] - 5s 86us/sample - loss: 0.0504 - accuracy: 0.9832 - val_loss: 0.1341 - val_accuracy: 0.9707\n"
     ]
    }
   ],
   "source": [
    "history = model.fit(X_train, y_train, epochs=30, batch_size=128, validation_split=0.2)"
   ]
  },
  {
   "cell_type": "code",
   "execution_count": 68,
   "id": "7f83e504",
   "metadata": {
    "id": "7f83e504"
   },
   "outputs": [
    {
     "data": {
      "image/png": "[encoded data removed]",
      "text/plain": [
       "<Figure size 432x288 with 1 Axes>"
      ]
     },
     "metadata": {
      "needs_background": "light"
     },
     "output_type": "display_data"
    },
    {
     "data": {
      "image/png": "[encoded data removed]",
      "text/plain": [
       "<Figure size 432x288 with 1 Axes>"
      ]
     },
     "metadata": {
      "needs_background": "light"
     },
     "output_type": "display_data"
    }
   ],
   "source": [
    "# summarize history for accuracy\n",
    "plt.plot(history.history['accuracy'])\n",
    "plt.plot(history.history['val_accuracy'])\n",
    "plt.title('model accuracy')\n",
    "plt.ylabel('accuracy')\n",
    "plt.xlabel('epoch')\n",
    "plt.legend(['train', 'validation'], loc='upper left')\n",
    "plt.show()\n",
    "# summarize history for loss\n",
    "plt.plot(history.history['loss'])\n",
    "plt.plot(history.history['val_loss'])\n",
    "plt.title('model loss')\n",
    "plt.ylabel('loss')\n",
    "plt.xlabel('epoch')\n",
    "\n",
    "plt.legend(['train', 'validation'], loc='upper left')\n",
    "plt.show()"
   ]
  },
  {
   "cell_type": "code",
   "execution_count": 71,
   "id": "c0de1827",
   "metadata": {
    "id": "c0de1827"
   },
   "outputs": [
    {
     "name": "stdout",
     "output_type": "stream",
     "text": [
      "18400/18400 - 1s - loss: 0.1201 - accuracy: 0.9718\n"
     ]
    },
    {
     "data": {
      "text/plain": [
       "[0.12014626625285019, 0.9717935]"
      ]
     },
     "execution_count": 71,
     "metadata": {},
     "output_type": "execute_result"
    }
   ],
   "source": [
    "model.evaluate(X_test, y_test, verbose=2)"
   ]
  },
  {
   "cell_type": "code",
   "execution_count": 96,
   "id": "ef52ae75",
   "metadata": {
    "id": "ce838712"
   },
   "outputs": [
    {
     "name": "stdout",
     "output_type": "stream",
     "text": [
      "predicted word:  character_01_ka\n",
      "actual word:  character_01_ka\n"
     ]
    },
    {
     "data": {
      "image/png": "[encoded data removed]",
      "text/plain": [
       "<Figure size 432x288 with 1 Axes>"
      ]
     },
     "metadata": {
      "needs_background": "light"
     },
     "output_type": "display_data"
    }
   ],
   "source": [
    "predictions = model.predict(X_test)\n",
    "\n",
    "i = 436\n",
    "\n",
    "plt.imshow(X_test[i].reshape(32, 32), cmap='gray')\n",
    "plt.axis('off')\n",
    "print('predicted word: ', y_dict[str(np.argmax(predictions[i]))])\n",
    "print('actual word: ', y_dict[str(np.argmax(y_test[i]))])"
   ]
  },
  {
   "cell_type": "code",
   "execution_count": null,
   "id": "6ee44ac8",
   "metadata": {
    "id": "6ee44ac8"
   },
   "outputs": [],
   "source": []
  },
  {
   "cell_type": "code",
   "execution_count": null,
   "id": "0ec6aea2",
   "metadata": {
    "id": "0ec6aea2"
   },
   "outputs": [],
   "source": []
  },
  {
   "cell_type": "code",
   "execution_count": null,
   "id": "20ba2791",
   "metadata": {
    "id": "20ba2791"
   },
   "outputs": [],
   "source": []
  },
  {
   "cell_type": "code",
   "execution_count": null,
   "id": "17c57045",
   "metadata": {
    "id": "17c57045"
   },
   "outputs": [],
   "source": []
  }
 ],
 "metadata": {
  "accelerator": "GPU",
  "colab": {
   "name": "devanagari-character-recognition.ipynb",
   "provenance": []
  },
  "kernelspec": {
   "display_name": "Python 3",
   "language": "python",
   "name": "python3"
  },
  "language_info": {
   "codemirror_mode": {
    "name": "ipython",
    "version": 3
   },
   "file_extension": ".py",
   "mimetype": "text/x-python",
   "name": "python",
   "nbconvert_exporter": "python",
   "pygments_lexer": "ipython3",
   "version": "3.7.10"
  }
 },
 "nbformat": 4,
 "nbformat_minor": 5
}
